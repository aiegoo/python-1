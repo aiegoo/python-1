{
 "cells": [
  {
   "cell_type": "code",
   "execution_count": 1,
   "metadata": {},
   "outputs": [
    {
     "name": "stdout",
     "output_type": "stream",
     "text": [
      "TREE의 높이를 입력하세요: 20\n",
      "                   *\n",
      "                  ***\n",
      "                 *****\n",
      "                *******\n",
      "               *********\n",
      "              ***********\n",
      "             *************\n",
      "            ***************\n",
      "           *****************\n",
      "          *******************\n",
      "         *********************\n",
      "        ***********************\n",
      "       *************************\n",
      "      ***************************\n",
      "     *****************************\n",
      "    *******************************\n",
      "   *********************************\n",
      "  ***********************************\n",
      " *************************************\n",
      "***************************************\n",
      "                  ***\n",
      "                  ***\n",
      "                  ***\n"
     ]
    }
   ],
   "source": [
    "    line = int(input(\"TREE의 높이를 입력하세요: \"))\n",
    "\n",
    "    if line < 20:\n",
    "        print(\"TREE의 높이는 20이상입니다.\")\n",
    "        line = int(input(\"TREE의 높이를 입력하세요: \"))\n",
    "        \n",
    "    for x in range(1, line * 2, 2):\n",
    "        print((\" \" * ( (line * 2 - 1 - x) // 2 )) + (\"*\" * x))\n",
    "\n",
    "    for y in range(1, 4):\n",
    "        print(\" \" * (line-2) + \"***\")"
   ]
  },
  {
   "cell_type": "code",
   "execution_count": null,
   "metadata": {},
   "outputs": [],
   "source": []
  }
 ],
 "metadata": {
  "kernelspec": {
   "display_name": "Python 3",
   "language": "python",
   "name": "python3"
  },
  "language_info": {
   "codemirror_mode": {
    "name": "ipython",
    "version": 3
   },
   "file_extension": ".py",
   "mimetype": "text/x-python",
   "name": "python",
   "nbconvert_exporter": "python",
   "pygments_lexer": "ipython3",
   "version": "3.6.5"
  }
 },
 "nbformat": 4,
 "nbformat_minor": 2
}
