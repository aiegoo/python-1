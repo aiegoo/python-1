{
 "cells": [
  {
   "cell_type": "code",
   "execution_count": 2,
   "metadata": {},
   "outputs": [
    {
     "name": "stdout",
     "output_type": "stream",
     "text": [
      "True False False True False \n"
     ]
    }
   ],
   "source": [
    "def duplicateNumber(input):    \n",
    "    splitList = input.split()\n",
    "    resultString = \"\"\n",
    "    #loop all input string\n",
    "    for numberString in splitList:\n",
    "        numberSet = set()\n",
    "        duplicated = False\n",
    "\n",
    "        for i in str(numberString):\n",
    "            if i not in numberSet:\n",
    "                numberSet.add(i)\n",
    "            else:\n",
    "                duplicated = True                \n",
    "                break\n",
    "\n",
    "        if len(numberSet) != 10 or duplicated:\n",
    "            resultString +='False '\n",
    "        else:\n",
    "            resultString +='True '\n",
    "\n",
    "    return resultString\n",
    "\n",
    "print(duplicateNumberBF('0123456789 01234 01234567890 6789012345 012322456789'))"
   ]
  },
  {
   "cell_type": "code",
   "execution_count": 3,
   "metadata": {},
   "outputs": [
    {
     "name": "stdout",
     "output_type": "stream",
     "text": [
      "True\n"
     ]
    }
   ],
   "source": [
    "def check_one_number(num):\n",
    "    for i in range(10):\n",
    "        if num.count(str(i)) != 1:\n",
    "            print(\"False\")\n",
    "            return\n",
    "\n",
    "    print(\"True\")\n",
    "\n",
    "check_one_number('6789012345')"
   ]
  },
  {
   "cell_type": "code",
   "execution_count": null,
   "metadata": {},
   "outputs": [],
   "source": []
  }
 ],
 "metadata": {
  "kernelspec": {
   "display_name": "Python 3",
   "language": "python",
   "name": "python3"
  },
  "language_info": {
   "codemirror_mode": {
    "name": "ipython",
    "version": 3
   },
   "file_extension": ".py",
   "mimetype": "text/x-python",
   "name": "python",
   "nbconvert_exporter": "python",
   "pygments_lexer": "ipython3",
   "version": "3.6.5"
  }
 },
 "nbformat": 4,
 "nbformat_minor": 2
}
