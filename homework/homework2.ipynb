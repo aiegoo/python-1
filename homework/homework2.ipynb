{
 "cells": [
  {
   "cell_type": "code",
   "execution_count": 2,
   "metadata": {},
   "outputs": [
    {
     "name": "stdout",
     "output_type": "stream",
     "text": [
      "a4b3c2z4s1a1\n"
     ]
    }
   ],
   "source": [
    "s = \"aaaabbbcczzzzsa\"\n",
    "\n",
    "#초기값을 설정합니다.\n",
    "result = s[0] #반복문 실행되는 동안 문자열 형태로 반환되는 결과들을 담을 변수\n",
    "count = 0 #반복되서 나오는 문자 수만큼 카운팅되는 값을 담을 변수\n",
    "\n",
    "for i in s:\n",
    "    if i == result[-1]: #result변수 마지막 문자와 비교합니다. else에서 result변수에 값이 추가되기 때문에 마지막 문자[-1]와 비교.\n",
    "        count += 1\n",
    "    else:\n",
    "        result += str(count) + i #마지막 글자와 i가 다를 경우 카운팅된 값을 문자열 형태로 result 변수 마지막에 추가 해주고 i를 마지막 문자로 추가합니다.\n",
    "        count = 1\n",
    "result += str(count) #결과들이 담긴 변수에 마지막으로 카운팅된 값을 문자열 형태로 추가합니다.\n",
    "\n",
    "print(result)"
   ]
  },
  {
   "cell_type": "code",
   "execution_count": 3,
   "metadata": {},
   "outputs": [
    {
     "name": "stdout",
     "output_type": "stream",
     "text": [
      "172\n"
     ]
    }
   ],
   "source": [
    "import calendar\n",
    "# sum(각 월의 첫 요일이 일요일(6)인 경우 1인 리스트 반환)\n",
    "print(sum([1 if calendar.monthrange(x, y)[0] == 6 else 0 for x in range(1900, 2000)\n",
    "           for y in range(1, 13)]))"
   ]
  },
  {
   "cell_type": "code",
   "execution_count": 5,
   "metadata": {},
   "outputs": [
    {
     "name": "stdout",
     "output_type": "stream",
     "text": [
      "172\n"
     ]
    }
   ],
   "source": [
    "import calendar\n",
    "count = 0\n",
    "for year in range(1900, 2000):\n",
    "    for month in range(1, 13):\n",
    "        if calendar.monthrange(year, month)[0] == 6:\n",
    "            count = count + 1\n",
    "print(count)"
   ]
  },
  {
   "cell_type": "code",
   "execution_count": null,
   "metadata": {},
   "outputs": [],
   "source": []
  }
 ],
 "metadata": {
  "kernelspec": {
   "display_name": "Python 3",
   "language": "python",
   "name": "python3"
  },
  "language_info": {
   "codemirror_mode": {
    "name": "ipython",
    "version": 3
   },
   "file_extension": ".py",
   "mimetype": "text/x-python",
   "name": "python",
   "nbconvert_exporter": "python",
   "pygments_lexer": "ipython3",
   "version": "3.6.5"
  }
 },
 "nbformat": 4,
 "nbformat_minor": 2
}
